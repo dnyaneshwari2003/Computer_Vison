{
  "nbformat": 4,
  "nbformat_minor": 0,
  "metadata": {
    "colab": {
      "provenance": []
    },
    "kernelspec": {
      "name": "python3",
      "display_name": "Python 3"
    },
    "language_info": {
      "name": "python"
    }
  },
  "cells": [
    {
      "cell_type": "markdown",
      "source": [
        "#Practicle 1"
      ],
      "metadata": {
        "id": "diQ49vAxOYG2"
      }
    },
    {
      "cell_type": "markdown",
      "source": [],
      "metadata": {
        "id": "qyhv04DqOFt1"
      }
    },
    {
      "cell_type": "code",
      "execution_count": null,
      "metadata": {
        "id": "R3m0zaZtK2Oi"
      },
      "outputs": [],
      "source": [
        "%matplotlib inline\n",
        "#display inside the code w/o OS\n",
        "import cv2\n",
        "import numpy as np\n",
        "import matplotlib.pyplot as plt\n",
        "\n",
        "img=cv2.imread(\"/content/bottle.jpg\")\n",
        "print(img.shape)\n",
        "print(img)"
      ]
    },
    {
      "cell_type": "markdown",
      "source": [
        "#GrayScale"
      ],
      "metadata": {
        "id": "mUHDlvbLOA_V"
      }
    },
    {
      "cell_type": "code",
      "source": [
        "img_grayscale=cv2.imread(\"/content/bottle.jpg\",0)\n",
        "print(img.shape)\n",
        "from google.colab.patches import cv2_imshow\n",
        "img_grayscale=cv2.imread(\"/content/bottle.jpg\",0)\n",
        "cv2_imshow(img_grayscale)"
      ],
      "metadata": {
        "id": "9dj8UxqyLvI2"
      },
      "execution_count": null,
      "outputs": []
    },
    {
      "cell_type": "markdown",
      "source": [
        "#RGB\n"
      ],
      "metadata": {
        "id": "rrWLrDTfSOId"
      }
    },
    {
      "cell_type": "markdown",
      "source": [
        "###RED"
      ],
      "metadata": {
        "id": "KsJFdiwJSY9f"
      }
    },
    {
      "cell_type": "code",
      "source": [
        "img[:,:,0]=0\n",
        "img[:,:,1]=0\n",
        "cv2_imshow(img)"
      ],
      "metadata": {
        "id": "uSI-sM-OO1Vu"
      },
      "execution_count": null,
      "outputs": []
    },
    {
      "cell_type": "markdown",
      "source": [
        "##BLUE"
      ],
      "metadata": {
        "id": "_EojIQi1SvDW"
      }
    },
    {
      "cell_type": "code",
      "source": [
        "img=cv2.imread(\"/content/bottle.jpg\")\n",
        "\n",
        "img[:,:,1]=0\n",
        "img[:,:,2]=0\n",
        "cv2_imshow(img)"
      ],
      "metadata": {
        "id": "YdOrFftVPQFN"
      },
      "execution_count": null,
      "outputs": []
    },
    {
      "cell_type": "markdown",
      "source": [
        "##GREEN"
      ],
      "metadata": {
        "id": "ohEDQ9A1S__m"
      }
    },
    {
      "cell_type": "code",
      "source": [
        "img=cv2.imread(\"/content/bottle.jpg\")\n",
        "img[:,:,0]=0\n",
        "img[:,:,2]=0\n",
        "cv2_imshow(img)"
      ],
      "metadata": {
        "id": "ZUitNNfuPP5F"
      },
      "execution_count": null,
      "outputs": []
    },
    {
      "cell_type": "code",
      "source": [
        "img[:,:,0]=0\n",
        "img[:,:,0]=1\n",
        "cv2_imshow(img)\n"
      ],
      "metadata": {
        "id": "zKpy0x1YNgiP"
      },
      "execution_count": null,
      "outputs": []
    },
    {
      "cell_type": "code",
      "source": [],
      "metadata": {
        "id": "E5-35p1lOtvW"
      },
      "execution_count": null,
      "outputs": []
    }
  ]
}