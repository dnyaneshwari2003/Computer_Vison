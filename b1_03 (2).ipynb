{
  "nbformat": 4,
  "nbformat_minor": 0,
  "metadata": {
    "colab": {
      "provenance": []
    },
    "kernelspec": {
      "name": "python3",
      "display_name": "Python 3"
    },
    "language_info": {
      "name": "python"
    }
  },
  "cells": [
    {
      "cell_type": "markdown",
      "source": [
        "#PRACTICLE 2"
      ],
      "metadata": {
        "id": "RskrGiEeImuf"
      }
    },
    {
      "cell_type": "markdown",
      "source": [],
      "metadata": {
        "id": "593pY9x8IitQ"
      }
    },
    {
      "cell_type": "code",
      "execution_count": null,
      "metadata": {
        "id": "hROOJWF7IhML"
      },
      "outputs": [],
      "source": [
        "import cv2\n",
        "import numpy as np\n",
        "from google.colab import files\n",
        "import matplotlib.pyplot as plt"
      ]
    },
    {
      "cell_type": "code",
      "source": [
        "#upload and load image\n",
        "uploaded = files.upload()\n",
        "image_path = list(uploaded.keys())[0]\n",
        "img = cv2.cvtColor(cv2.imread(image_path),cv2.COLOR_BGR2RGB)\n"
      ],
      "metadata": {
        "id": "HJ9dguUxTFg3"
      },
      "execution_count": null,
      "outputs": []
    },
    {
      "cell_type": "code",
      "source": [
        "#show function\n",
        "def show(img,title=\"image\"):\n",
        "  plt.imshow(img)\n",
        "  plt.title(title)\n",
        "  plt.axis('off')\n",
        "  plt.show()\n",
        "show(img,'original image')"
      ],
      "metadata": {
        "id": "dP7Ic-D0UIGm"
      },
      "execution_count": null,
      "outputs": []
    },
    {
      "cell_type": "code",
      "source": [
        "#transformations\n",
        "rows,cols,_=img.shape[:]"
      ],
      "metadata": {
        "id": "9Xps5ht8UxNn"
      },
      "execution_count": null,
      "outputs": []
    },
    {
      "cell_type": "code",
      "source": [
        "#translation\n",
        "tx, ty = 100,200\n",
        "translation_matrix = np.float32([[1,0,tx], [0,1, ty]])\n",
        "img_translation = cv2.warpAffine(img, translation_matrix, (img.shape[1], img.shape[0]))\n",
        "plt.imshow(img_translation)\n",
        "plt.axis('off')\n",
        "plt.show()"
      ],
      "metadata": {
        "id": "Ibb__9utYzb5"
      },
      "execution_count": null,
      "outputs": []
    },
    {
      "cell_type": "code",
      "source": [
        "#rotation\n",
        "rot_matrix=cv2.getRotationMatrix2D((cols //2 ,rows // 2) , 45 , 1)\n",
        "rotated = cv2.warpAffine(img , rot_matrix , (cols , rows))\n",
        "show(rotated,\"rotated\")\n",
        "\n",
        "#scaling\n",
        "scaled = cv2.resize(img, None, fx=0.5, fy=0.5, interpolation=cv2.INTER_LINEAR)\n",
        "show(scaled,\"scaling\")\n",
        "\n",
        "#Shearing\n",
        "shear_matrix = np.float32([[1, 0.2, 0], [0.2, 1, 0]])\n",
        "sheared = cv2.warpAffine(img, shear_matrix, (cols, rows))\n",
        "show(sheared,\"Shearing\")\n",
        "\n",
        "#Reflection\n",
        "rows, cols = img.shape[:2]\n",
        "reflect_matrix = np.float32([[-1, 0, cols], [0, 1, 0]])\n",
        "reflected = cv2.warpAffine(img, reflect_matrix, (img.shape[1], img.shape[0]))\n",
        "show(reflected,\" Reflected\")"
      ],
      "metadata": {
        "id": "gZcx5wTsQw5i"
      },
      "execution_count": null,
      "outputs": []
    },
    {
      "cell_type": "code",
      "source": [],
      "metadata": {
        "id": "h8lFhVLCa9b_"
      },
      "execution_count": null,
      "outputs": []
    }
  ]
}